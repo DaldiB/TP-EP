{
  "nbformat": 4,
  "nbformat_minor": 0,
  "metadata": {
    "colab": {
      "provenance": [],
      "collapsed_sections": [
        "ZyI_MWiAm96O"
      ],
      "include_colab_link": true
    },
    "kernelspec": {
      "name": "python3",
      "display_name": "Python 3"
    },
    "language_info": {
      "name": "python"
    }
  },
  "cells": [
    {
      "cell_type": "markdown",
      "metadata": {
        "id": "view-in-github",
        "colab_type": "text"
      },
      "source": [
        "<a href=\"https://colab.research.google.com/github/DaldiB/TP-EP/blob/main/TP_Programaci%C3%B3n_PrimerParte.ipynb\" target=\"_parent\"><img src=\"https://colab.research.google.com/assets/colab-badge.svg\" alt=\"Open In Colab\"/></a>"
      ]
    },
    {
      "cell_type": "markdown",
      "source": [
        "# **TRABAJO PRÁCTICO FINAL**\n",
        "\n",
        "| Integrantes | Legajo|\n",
        "| ----- | --- |\n",
        "|Bettoni Batista, Mariana | X-9999/9 |\n",
        "|Centurión, Javier | X-9999/9 |\n",
        "|Saldías Bravo, Claudio | X-9999/9 |\n",
        "\n"
      ],
      "metadata": {
        "id": "CQIPFh1jVnRm"
      }
    },
    {
      "cell_type": "code",
      "source": [
        "# ====================================================================================================\n",
        "# MODULO: CARGAR DATASET\n",
        "# ====================================================================================================\n",
        "# Script    : cargar_dataset.py                 Entorno: Google Colab\n",
        "# Version   : 0.2     Fecha Ver : 2023-06-13    Fecha creación: 2023-06-10\n",
        "# Autores   : Bettoni, M. - Centurión, J. - Saldías Bravo, C.\n",
        "# ----------------------------------------------------------------------------------------------------\n",
        "# Utilidad: obtener dataset\n",
        "# ===================================================================================================="
      ],
      "metadata": {
        "id": "XldffF6ik_rO"
      },
      "execution_count": null,
      "outputs": []
    },
    {
      "cell_type": "markdown",
      "source": [
        "# Funciones principales"
      ],
      "metadata": {
        "id": "ysSGWU6c184j"
      }
    },
    {
      "cell_type": "code",
      "source": [
        "def xopenFile(file_path):\n",
        "  \"\"\"\n",
        "  Lee datos del archivo de entrada y retorna\n",
        "  una lista con la información que se va a usar en el trabajo.\n",
        "  \"\"\"\n",
        "  # Insertar función creada en clase\n",
        "\n",
        "  pass"
      ],
      "metadata": {
        "id": "q3l_2eAenhZm"
      },
      "execution_count": null,
      "outputs": []
    },
    {
      "cell_type": "code",
      "source": [
        "def openFile(coordenadas_provincias):\n",
        "  try:\n",
        "    archivo = open(coordenadas_provincias, 'r')\n",
        "    contenido = archivo.read()\n",
        "    archivo.close()\n",
        "    return contenido\n",
        "  except FileNotFoundError:\n",
        "    return \"Archivo no encontrado\"\n",
        "\n",
        "  except IOError:\n",
        "    return \"Error al abrir el archivo\"\n"
      ],
      "metadata": {
        "id": "wIovIMpWGgkr"
      },
      "execution_count": null,
      "outputs": []
    },
    {
      "cell_type": "code",
      "source": [
        "lista = [\"Buenos Aires\",-34.6037,-58.3816, \"CABA\",-34.6158,-58.4333, \"Catamarca\",-28.4696,-65.7795, \"Chaco\",-26.6021,-59.3087, \"Chubut\",-43.6848,-68.2714, \"Córdoba\",-31.4167,-64.1833, \"Corrientes\",-27.4692,-58.8309, \"Entre Ríos\",-31.7642,-60.5247, \"Formosa\",-26.1844,-58.1759, \"Jujuy\",-24.1858,-65.2995, \"La Pampa\",-36.6167,-64.2833, \"La Rioja\",-29.4131,-66.8558, \"Mendoza\",-32.8908,-68.8272, \"Misiones\",-27.3621,-55.9007, \"Neuquén\",-38.9516,-68.0591, \"Río Negro\",-40.8135,-62.9967, \"Salta\",-24.7829,-65.4232, \"San Juan\",-31.5375,-68.5364, \"San Luis\",-33.3335,-66.3499, \"Santa Cruz\",-51.6236,-69.2169, \"Santa Fe\",-31.6333,-60.7, \"Santiago del Estero\",-27.784,-64.2665, \"Tierra del Fuego\",-54.8019,-68.302, \"Tucumán\",-26.808,-65.2176]\n",
        "\n",
        "\n",
        "def listToDict(lista):\n",
        "\n",
        "  diccionario = {}\n",
        "  for i in range(0, len(lista), 3):\n",
        "    nombre = lista[i]\n",
        "    latitud = lista[i + 1]\n",
        "    longitud = lista[i + 2]\n",
        "    diccionario[nombre] = {'latitud': latitud, 'longitud': longitud}\n",
        "\n",
        "  return diccionario\n",
        "\n",
        "def leerArchivoComoLista(coordenadas_provincias):\n",
        "\n",
        "  with open(coordenadas_provincias, 'r') as archivo:\n",
        "    contenido = archivo.readlines()\n",
        "    lista = [linea.strip() for linea in contenido]\n",
        "\n",
        "  return lista\n",
        "\n",
        "\"\"\"\n",
        "  La función leer archivo fue sugestión del chat, no sé si hace falta\n",
        "  Y la función listToDict no sabia si dejaba \"lista\" o si ya deberia colocar el\n",
        "  nombre del archivo.\n",
        "  Ultima cosita, no entiendo bien el error que me tira al correr la rutina.\n",
        "\n",
        "  Toma una lista como argumento y devuelve un diccionario.\n",
        "  La clave es el valor en el índice 0, y los valores asociados son una tupla\n",
        "  con el resto de los elementos de la lista.\n",
        "  \"\"\"\n",
        "\n",
        "\n"
      ],
      "metadata": {
        "id": "-wQkBIO6lNRW"
      },
      "execution_count": null,
      "outputs": []
    },
    {
      "cell_type": "code",
      "source": [
        "def descargarCsv(url: str, archivo_salida: str) -> None:\n",
        "    \"\"\"\n",
        "    Descarga un archivo CSV desde una URL y lo guarda en el archivo especificado.\n",
        "    \"\"\"\n",
        "\n",
        "    print(\"Descargando archivo...\")\n",
        "    print(\"Desde URL: \", url)\n",
        "    print(\"Archivo  : \", archivo_salida)\n",
        "\n",
        "    consulta = requests.get(url, verify=True)   # verify=True: habilita verificación del certificado SSL\n",
        "    contenido = consulta.content\n",
        "\n",
        "    print(\"Guardando archivo...\")\n",
        "    # Abrir conexión en modo escritura (\"w\")\n",
        "    with open(archivo_salida, \"w\", encoding=\"utf-8\") as archivo:\n",
        "        # Escribir el contenido de la consulta\n",
        "        archivo.write(contenido.decode(\"utf-8\"))\n",
        "\n",
        "    print(\"¡Archivo descargado con éxito!\")"
      ],
      "metadata": {
        "id": "-TUhBfVInbfF"
      },
      "execution_count": null,
      "outputs": []
    },
    {
      "cell_type": "code",
      "source": [
        "def mostrarContenidoCsv(archivo: str) -> None:\n",
        "    \"\"\"\n",
        "    Muestra el contenido del archivo CSV.\n",
        "    \"\"\"\n",
        "\n",
        "    # Abrir el archivo en modo lectura\n",
        "    with open(archivo, \"r\", encoding=\"utf-8\") as archivo_csv:\n",
        "        # Leer el contenido del archivo CSV\n",
        "        contenido = csv.reader(archivo_csv)\n",
        "\n",
        "        # Mostrar cada fila del archivo\n",
        "        for fila in contenido:\n",
        "            print(fila)"
      ],
      "metadata": {
        "id": "y3vXWBjMtpwk"
      },
      "execution_count": null,
      "outputs": []
    },
    {
      "cell_type": "markdown",
      "source": [
        "# Rutina principal"
      ],
      "metadata": {
        "id": "xj-FDLbH2GKj"
      }
    },
    {
      "cell_type": "code",
      "source": [
        "# ----------------------------------------------------------------------------------------------------\n",
        "# Rutina principal\n",
        "# ----------------------------------------------------------------------------------------------------\n",
        "\n",
        "# Bibliotecas\n",
        "import csv\n",
        "import requests\n",
        "\n",
        "# Declaraciones\n",
        "url = \"https://drive.google.com/uc?id=1WWvf6yn5oS1xarapKnwr3s8l2wKWtd7d\"\n",
        "archivo_salida=\"coordenadas_provincias.csv\"\n",
        "\n",
        "# Procedimientos\n",
        "# Etapa 1: descargar-abrir-diccionario\n",
        "print(\"Ejecutando rutina...\")\n",
        "descargarCsv(url, archivo_salida)\n",
        "#mostrarContenidoCsv(archivo_salida)\n",
        "\n",
        "datos_provincias = openFile(archivo_salida)\n",
        "# print(datos_provincias)\n",
        "\n",
        "dict_provincias = listToDict(lista)\n",
        "print(dict_provincias)\n",
        "\n"
      ],
      "metadata": {
        "id": "5LrlnSRS5SxQ"
      },
      "execution_count": null,
      "outputs": []
    },
    {
      "cell_type": "markdown",
      "source": [
        "---\n",
        "## **Documentación** ##\n",
        "---\n",
        "\n"
      ],
      "metadata": {
        "id": "wxsE74zhntAl"
      }
    },
    {
      "cell_type": "markdown",
      "source": [
        "# **Bitácora de D°**"
      ],
      "metadata": {
        "id": "JiozQ4Lr0HLb"
      }
    },
    {
      "cell_type": "markdown",
      "source": [
        "Bitacora\n",
        "10-06 Creación de versión 0.1 (esquema inicial)\n",
        "13-06 17:30 - Estructuracion de programa completo solo con codigo, comentarios de secciones. Codificación función descarga.\n",
        "18:10 - Reestructuración de modulos de codigo en celdas\n",
        "18:30 - Desarrollo funcion descargarCsv(), mostrarContendioCsv()\n",
        "19:00 - Testing: funcionamiento Ok\n",
        "20:00 - Integración modulos del equipo de D° - Pruebas\n"
      ],
      "metadata": {
        "id": "9rJOsqN-cxP5"
      }
    },
    {
      "cell_type": "markdown",
      "source": [
        "# **descargarCsv()**"
      ],
      "metadata": {
        "id": "O6Uz2AW0zIBz"
      }
    },
    {
      "cell_type": "markdown",
      "source": [
        "El código realiza la descarga de un archivo CSV desde una URL y lo guarda en un archivo local.\n",
        "\n",
        "Se define una función llamada descargarCsv que toma dos parámetros: url (que\n",
        "representa la URL del archivo CSV a descargar) y archivo_salida (que representa la ruta y nombre del archivo en el que se guardará la descarga).\n",
        "\n",
        "Se imprimen mensajes informativos para indicar que se está descargando el archivo, la URL desde donde se descarga y el archivo de salida donde se guardará.\n",
        "\n",
        "Se utiliza requests.get(url, verify=True) para realizar una solicitud GET a la URL especificada, habilitando la verificación del certificado SSL.\n",
        "\n",
        "El contenido de la respuesta se guarda en la variable contenido.\n",
        "\n",
        "Se imprime un mensaje indicando que se está guardando el archivo.\n",
        "\n",
        "Se abre el archivo de salida en modo escritura utilizando open(archivo_salida, \"w\", encoding=\"utf-8\") as archivo.\n",
        "\n",
        "Se escribe el contenido de la descarga en el archivo utilizando archivo.write(contenido.decode(\"utf-8\")). Aquí se decodifica el contenido para asegurarse de que se escriba en el archivo de manera adecuada.\n",
        "\n",
        "Se imprime un mensaje para indicar que el archivo se ha descargado con éxito."
      ],
      "metadata": {
        "id": "ZyI_MWiAm96O"
      }
    },
    {
      "cell_type": "markdown",
      "source": [
        "# **mostrarContenidoCsv()**"
      ],
      "metadata": {
        "id": "zBUUIk1mz0Sj"
      }
    },
    {
      "cell_type": "markdown",
      "source": [
        "Se define una función llamada mostrarContenidoCsv que toma un parámetro archivo de tipo str. Esta función tiene como objetivo mostrar el contenido de un archivo CSV.\n",
        "\n",
        "Se utiliza la declaración with open(archivo, \"r\", encoding=\"utf-8\") as archivo_csv para abrir el archivo especificado en modo lectura. El archivo se abre en el contexto de with, lo que garantiza que se cierre correctamente después de su uso.\n",
        "\n",
        "Dentro del bloque with, se utiliza csv.reader(archivo_csv) para leer el contenido del archivo CSV. csv.reader es una función proporcionada por la biblioteca csv que permite leer y procesar un archivo CSV línea por línea.\n",
        "\n",
        "Se itera sobre cada fila del archivo utilizando un bucle for fila in contenido. Esto permite recorrer todas las filas del archivo CSV.\n",
        "\n",
        "Dentro del bucle, se imprime cada fila utilizando print(fila). Esto muestra el contenido de cada fila en la consola."
      ],
      "metadata": {
        "id": "mB9nNfwHz9VT"
      }
    }
  ]
}